{
  "nbformat": 4,
  "nbformat_minor": 0,
  "metadata": {
    "colab": {
      "private_outputs": true,
      "provenance": [],
      "gpuType": "T4"
    },
    "kernelspec": {
      "name": "python3",
      "display_name": "Python 3"
    },
    "language_info": {
      "name": "python"
    },
    "gpuClass": "standard",
    "accelerator": "TPU"
  },
  "cells": [
    {
      "cell_type": "code",
      "execution_count": null,
      "metadata": {
        "id": "e_SfN2gkuIWc"
      },
      "outputs": [],
      "source": [
        "import nltk\n",
        "nltk.download('stopwords')\n",
        "nltk.download('punkt')"
      ]
    },
    {
      "cell_type": "code",
      "source": [
        "from nltk.corpus import stopwords\n",
        "print(stopwords.words('english'))"
      ],
      "metadata": {
        "id": "LINyGjK5vma9"
      },
      "execution_count": null,
      "outputs": []
    },
    {
      "cell_type": "code",
      "source": [
        "ex = \"hello everyone,this is murali from second cse standing in front of you to demostrate the qualities of patnana suneel kumar psyco of CSE.....!\"\n",
        "sws = set(stopwords.words('english'))"
      ],
      "metadata": {
        "id": "oDB30NmZv2MB"
      },
      "execution_count": null,
      "outputs": []
    },
    {
      "cell_type": "code",
      "source": [
        "from nltk.tokenize import word_tokenize\n",
        "wts = word_tokenize(ex)"
      ],
      "metadata": {
        "id": "Baahb0iN1Kjg"
      },
      "execution_count": null,
      "outputs": []
    },
    {
      "cell_type": "code",
      "source": [
        "fltsnt = [x for x in wts if x.lower() not in sws ]\n",
        "print(*fltsnt)\n",
        "#[w for w in word_tokens if not w.lower() in stop_words]"
      ],
      "metadata": {
        "id": "Q6k21XNR1Yx_"
      },
      "execution_count": null,
      "outputs": []
    },
    {
      "cell_type": "code",
      "source": [
        "fltsntwp = [x for x in wts if x.lower not in sws and x.isalpha()] \n",
        "#words=[word.lower() for word in words if word.isalpha()]\n",
        "print(*fltsntwp)"
      ],
      "metadata": {
        "id": "DarRDRAI8DCn"
      },
      "execution_count": null,
      "outputs": []
    }
  ]
}