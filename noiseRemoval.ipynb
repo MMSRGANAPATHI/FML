{
  "nbformat": 4,
  "nbformat_minor": 0,
  "metadata": {
    "colab": {
      "private_outputs": true,
      "provenance": [],
      "gpuType": "T4",
      "authorship_tag": "ABX9TyNVMQ3c7WDxRlA8bgv8vZJ6",
      "include_colab_link": true
    },
    "kernelspec": {
      "name": "python3",
      "display_name": "Python 3"
    },
    "language_info": {
      "name": "python"
    },
    "gpuClass": "standard",
    "accelerator": "TPU"
  },
  "cells": [
    {
      "cell_type": "markdown",
      "metadata": {
        "id": "view-in-github",
        "colab_type": "text"
      },
      "source": [
        "<a href=\"https://colab.research.google.com/github/MMSRGANAPATHI/FML/blob/main/noiseRemoval.ipynb\" target=\"_parent\"><img src=\"https://colab.research.google.com/assets/colab-badge.svg\" alt=\"Open In Colab\"/></a>"
      ]
    },
    {
      "cell_type": "code",
      "execution_count": null,
      "metadata": {
        "id": "e_SfN2gkuIWc"
      },
      "outputs": [],
      "source": [
        "import nltk\n",
        "nltk.download('stopwords')\n",
        "nltk.download('punkt')"
      ]
    },
    {
      "cell_type": "code",
      "source": [
        "from nltk.corpus import stopwords\n",
        "print(stopwords.words('english'))"
      ],
      "metadata": {
        "id": "LINyGjK5vma9"
      },
      "execution_count": null,
      "outputs": []
    },
    {
      "cell_type": "code",
      "source": [
        "ex = \"hello everyone,this is murali from second cse standing in front of you to demostrate the qualities of patnana suneel kumar psyco of CSE.....!\"\n",
        "sws = set(stopwords.words('english'))"
      ],
      "metadata": {
        "id": "oDB30NmZv2MB"
      },
      "execution_count": null,
      "outputs": []
    },
    {
      "cell_type": "code",
      "source": [
        "from nltk.tokenize import word_tokenize\n",
        "wts = word_tokenize(ex)"
      ],
      "metadata": {
        "id": "Baahb0iN1Kjg"
      },
      "execution_count": null,
      "outputs": []
    },
    {
      "cell_type": "code",
      "source": [
        "fltsnt = [x for x in wts if x.lower() not in sws ]\n",
        "print(*fltsnt)\n",
        "#[w for w in word_tokens if not w.lower() in stop_words]"
      ],
      "metadata": {
        "id": "Q6k21XNR1Yx_"
      },
      "execution_count": null,
      "outputs": []
    },
    {
      "cell_type": "code",
      "source": [
        "fltsntwp = [x for x in wts if x.lower not in sws and x.isalpha()] \n",
        "#words=[word.lower() for word in words if word.isalpha()]\n",
        "print(*fltsntwp)"
      ],
      "metadata": {
        "id": "DarRDRAI8DCn"
      },
      "execution_count": null,
      "outputs": []
    }
  ]
}